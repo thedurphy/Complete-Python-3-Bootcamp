{
 "cells": [
  {
   "cell_type": "markdown",
   "metadata": {},
   "source": [
    "# Milestone Project 2 - Blackjack Game\n",
    "In this milestone project you will be creating a Complete BlackJack Card Game in Python.\n",
    "\n",
    "Here are the requirements:\n",
    "\n",
    "* You need to create a simple text-based [BlackJack](https://en.wikipedia.org/wiki/Blackjack) game\n",
    "* The game needs to have one player versus an automated dealer.\n",
    "* The player can stand or hit.\n",
    "* The player must be able to pick their betting amount.\n",
    "* You need to keep track of the player's total money.\n",
    "* You need to alert the player of wins, losses, or busts, etc...\n",
    "\n",
    "And most importantly:\n",
    "\n",
    "* **You must use OOP and classes in some portion of your game. You can not just use functions in your game. Use classes to help you define the Deck and the Player's hand. There are many right ways to do this, so explore it well!**\n",
    "\n",
    "\n",
    "Feel free to expand this game. Try including multiple players. Try adding in Double-Down and card splits! Remember to you are free to use any resources you want and as always:\n",
    "\n",
    "# HAVE FUN!"
   ]
  },
  {
   "cell_type": "code",
   "execution_count": 38,
   "metadata": {},
   "outputs": [],
   "source": [
    "import numpy as np\n",
    "\n",
    "class Card:\n",
    "    def __init__(self, suit, val):\n",
    "        self.suit = suit\n",
    "        self.value = val\n",
    "    \n",
    "    def show(self):\n",
    "        print (\"{} of {}\".format(self.value, self.suit))\n",
    "    \n",
    "class Deck:\n",
    "    def __init__(self, decks=1):\n",
    "        self.cards = []\n",
    "        self.build(decks)\n",
    "        \n",
    "    def build(self, decks):\n",
    "        for _ in range(decks):\n",
    "            for s in [\"Spades\", \"Clubs\", \"Diamonds\", \"Hearts\"]:\n",
    "                for v in range(1, 14):\n",
    "                    self.cards.append((s, v))\n",
    "            \n",
    "    def show(self, card):\n",
    "        suits = {11: 'Jack', 12: 'Queen', 13: 'King'}\n",
    "        if card[1] < 11:\n",
    "            return f\"{card[1]} of {card[0]}\"\n",
    "        return f\"{suits[card[1]]} of {card[0]}\"\n",
    "            \n",
    "    def deal(self):\n",
    "        card = self.cards.pop(np.random.randint(len(self.cards)))\n",
    "        print(\"Dealer dealt \"+ self.show(card))\n",
    "        return card\n",
    "        \n",
    "class Wallet:\n",
    "    \n",
    "    def __init__(self, amount):\n",
    "        self.amount = amount\n",
    "        \n",
    "    def deduct(self, amount):\n",
    "        self.amount -= amount\n",
    "        \n",
    "    def add(self, amount):\n",
    "        self.amount += amount\n",
    "    \n",
    "    def balance(self):\n",
    "        return self.amount\n",
    "\n",
    "class BlackJack:\n",
    "    \n",
    "    def __init__(self, decks, balance):\n",
    "        self.deck = Deck(decks)\n",
    "        self.wallet = Wallet(balance)\n",
    "        \n",
    "    def dealer_play(self):\n",
    "        total = 0\n",
    "        while total < 18:\n",
    "            card = self.deck.deal()\n",
    "            total += card[1] if card[1] < 11 else 10\n",
    "        if total < 22:\n",
    "            print(\"Dealer stays on {}\".format(total))\n",
    "        elif total > 21:\n",
    "            print(\"Dealer busts on {}\".format(total))\n",
    "        else:\n",
    "            print(\"Dealer got {}!!\".format(total))\n",
    "        return total\n",
    "    \n",
    "    def player_play(self):\n",
    "        total = 0\n",
    "        choice = 'hit'\n",
    "        while choice == 'hit' and total < 22:\n",
    "            card = self.deck.deal()\n",
    "            total += card[1] if card[1] < 11 else 10\n",
    "            if total == 21:\n",
    "                print(\"You GOT {}!!!\".format(total))\n",
    "                return total\n",
    "            elif total > 21:\n",
    "                print(\"BUSTED with {}\".format(total))\n",
    "                return total\n",
    "            else:\n",
    "                print(\"You are at {}\".format(total))\n",
    "                choice = input(\"Hit or Stand?\").lower()\n",
    "        return total\n",
    "        \n",
    "        \n",
    "    def play(self):\n",
    "        total = 0\n",
    "        while self.wallet.balance() > 0:\n",
    "            raw_input = input(\"Please enter bet amount: \")\n",
    "            if raw_input == \"quit\":\n",
    "                break\n",
    "            bet = int(raw_input)\n",
    "            if bet < self.wallet.balance():\n",
    "                print(f\"You've bet {bet} out of {self.wallet.balance()}\")\n",
    "                player_outcome = self.player_play()\n",
    "            else:\n",
    "                print(f\"You only have {self.wallet.balance}.\\nYou can't bet more than that.\")\n",
    "            "
   ]
  },
  {
   "cell_type": "code",
   "execution_count": 39,
   "metadata": {},
   "outputs": [],
   "source": [
    "game = BlackJack(4, 100)"
   ]
  },
  {
   "cell_type": "code",
   "execution_count": 40,
   "metadata": {},
   "outputs": [
    {
     "name": "stdout",
     "output_type": "stream",
     "text": [
      "Dealer dealt 7 of Diamonds\n",
      "Dealer dealt Queen of Hearts\n",
      "Dealer dealt 2 of Hearts\n",
      "Dealer stays on 19\n"
     ]
    },
    {
     "data": {
      "text/plain": [
       "19"
      ]
     },
     "execution_count": 40,
     "metadata": {},
     "output_type": "execute_result"
    }
   ],
   "source": [
    "game.dealer_play()"
   ]
  },
  {
   "cell_type": "code",
   "execution_count": 45,
   "metadata": {},
   "outputs": [
    {
     "name": "stdout",
     "output_type": "stream",
     "text": [
      "Dealer dealt 10 of Spades\n",
      "You are at 10\n",
      "Hit or Stand?hit\n",
      "Dealer dealt 10 of Clubs\n",
      "You are at 20\n",
      "Hit or Stand?stay\n"
     ]
    },
    {
     "data": {
      "text/plain": [
       "20"
      ]
     },
     "execution_count": 45,
     "metadata": {},
     "output_type": "execute_result"
    }
   ],
   "source": [
    "game.player_play()"
   ]
  },
  {
   "cell_type": "code",
   "execution_count": 14,
   "metadata": {},
   "outputs": [],
   "source": [
    "test = BlackJack(4, 100)"
   ]
  },
  {
   "cell_type": "code",
   "execution_count": 15,
   "metadata": {},
   "outputs": [
    {
     "data": {
      "text/plain": [
       "100"
      ]
     },
     "execution_count": 15,
     "metadata": {},
     "output_type": "execute_result"
    }
   ],
   "source": [
    "test.wallet.balance()"
   ]
  },
  {
   "cell_type": "code",
   "execution_count": 2,
   "metadata": {},
   "outputs": [],
   "source": [
    "wallet = Wallet(100)"
   ]
  },
  {
   "cell_type": "code",
   "execution_count": 95,
   "metadata": {},
   "outputs": [],
   "source": [
    "deck = Deck(1)"
   ]
  },
  {
   "cell_type": "code",
   "execution_count": 96,
   "metadata": {},
   "outputs": [
    {
     "data": {
      "text/plain": [
       "('Spades', 1)"
      ]
     },
     "execution_count": 96,
     "metadata": {},
     "output_type": "execute_result"
    }
   ],
   "source": [
    "deck.cards[0]"
   ]
  },
  {
   "cell_type": "code",
   "execution_count": 97,
   "metadata": {},
   "outputs": [
    {
     "name": "stdout",
     "output_type": "stream",
     "text": [
      "[('Spades', 1), ('Spades', 2), ('Spades', 3), ('Spades', 4), ('Spades', 5), ('Spades', 6), ('Spades', 7), ('Spades', 8), ('Spades', 9), ('Spades', 10), ('Spades', 11), ('Spades', 12), ('Spades', 13), ('Clubs', 1), ('Clubs', 2), ('Clubs', 3), ('Clubs', 4), ('Clubs', 5), ('Clubs', 6), ('Clubs', 7), ('Clubs', 8), ('Clubs', 9), ('Clubs', 10), ('Clubs', 11), ('Clubs', 12), ('Clubs', 13), ('Diamonds', 1), ('Diamonds', 2), ('Diamonds', 3), ('Diamonds', 4), ('Diamonds', 5), ('Diamonds', 6), ('Diamonds', 7), ('Diamonds', 8), ('Diamonds', 9), ('Diamonds', 10), ('Diamonds', 11), ('Diamonds', 12), ('Diamonds', 13), ('Hearts', 1), ('Hearts', 2), ('Hearts', 3), ('Hearts', 4), ('Hearts', 5), ('Hearts', 6), ('Hearts', 7), ('Hearts', 8), ('Hearts', 9), ('Hearts', 10), ('Hearts', 11), ('Hearts', 12), ('Hearts', 13)]\n",
      "52\n"
     ]
    }
   ],
   "source": [
    "print(deck.cards)\n",
    "print(len(deck.cards))"
   ]
  },
  {
   "cell_type": "code",
   "execution_count": 85,
   "metadata": {},
   "outputs": [
    {
     "name": "stdout",
     "output_type": "stream",
     "text": [
      "Dealer dealt 8 of Spades\n"
     ]
    }
   ],
   "source": [
    "deck.deal()"
   ]
  },
  {
   "cell_type": "code",
   "execution_count": null,
   "metadata": {},
   "outputs": [],
   "source": []
  }
 ],
 "metadata": {
  "kernelspec": {
   "display_name": "Python 3",
   "language": "python",
   "name": "python3"
  },
  "language_info": {
   "codemirror_mode": {
    "name": "ipython",
    "version": 3
   },
   "file_extension": ".py",
   "mimetype": "text/x-python",
   "name": "python",
   "nbconvert_exporter": "python",
   "pygments_lexer": "ipython3",
   "version": "3.7.2"
  }
 },
 "nbformat": 4,
 "nbformat_minor": 1
}
